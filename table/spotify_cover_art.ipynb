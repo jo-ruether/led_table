{
 "cells": [
  {
   "cell_type": "code",
   "execution_count": 21,
   "metadata": {
    "collapsed": true
   },
   "outputs": [
    {
     "name": "stdout",
     "output_type": "stream",
     "text": [
      "{'album': {'album_type': 'single', 'artists': [{'external_urls': {'spotify': 'https://open.spotify.com/artist/3JE0uoggWwwYG6rSSJk0HN'}, 'href': 'https://api.spotify.com/v1/artists/3JE0uoggWwwYG6rSSJk0HN', 'id': '3JE0uoggWwwYG6rSSJk0HN', 'name': 'FIL BO RIVA', 'type': 'artist', 'uri': 'spotify:artist:3JE0uoggWwwYG6rSSJk0HN'}], 'available_markets': ['AD', 'AE', 'AR', 'AT', 'AU', 'BE', 'BG', 'BH', 'BO', 'BR', 'CH', 'CL', 'CO', 'CR', 'CY', 'CZ', 'DE', 'DK', 'DO', 'DZ', 'EC', 'EE', 'EG', 'ES', 'FI', 'FR', 'GB', 'GR', 'GT', 'HK', 'HN', 'HU', 'ID', 'IE', 'IL', 'IN', 'IS', 'IT', 'JO', 'KW', 'LB', 'LI', 'LT', 'LU', 'LV', 'MA', 'MC', 'MT', 'MX', 'MY', 'NI', 'NL', 'NO', 'NZ', 'OM', 'PA', 'PE', 'PH', 'PL', 'PS', 'PT', 'PY', 'QA', 'RO', 'SA', 'SE', 'SG', 'SK', 'SV', 'TH', 'TN', 'TR', 'TW', 'UY', 'VN', 'ZA'], 'external_urls': {'spotify': 'https://open.spotify.com/album/69eJRJXw4hicXlNdQ5AXg3'}, 'href': 'https://api.spotify.com/v1/albums/69eJRJXw4hicXlNdQ5AXg3', 'id': '69eJRJXw4hicXlNdQ5AXg3', 'images': [{'height': 640, 'url': 'https://i.scdn.co/image/ab67616d0000b273b3721adaad517d865c01edcb', 'width': 640}, {'height': 300, 'url': 'https://i.scdn.co/image/ab67616d00001e02b3721adaad517d865c01edcb', 'width': 300}, {'height': 64, 'url': 'https://i.scdn.co/image/ab67616d00004851b3721adaad517d865c01edcb', 'width': 64}], 'name': 'If You’re Right, It’s Alright', 'release_date': '2016-09-23', 'release_date_precision': 'day', 'total_tracks': 5, 'type': 'album', 'uri': 'spotify:album:69eJRJXw4hicXlNdQ5AXg3'}, 'artists': [{'external_urls': {'spotify': 'https://open.spotify.com/artist/3JE0uoggWwwYG6rSSJk0HN'}, 'href': 'https://api.spotify.com/v1/artists/3JE0uoggWwwYG6rSSJk0HN', 'id': '3JE0uoggWwwYG6rSSJk0HN', 'name': 'FIL BO RIVA', 'type': 'artist', 'uri': 'spotify:artist:3JE0uoggWwwYG6rSSJk0HN'}], 'available_markets': ['AD', 'AE', 'AR', 'AT', 'AU', 'BE', 'BG', 'BH', 'BO', 'BR', 'CH', 'CL', 'CO', 'CR', 'CY', 'CZ', 'DE', 'DK', 'DO', 'DZ', 'EC', 'EE', 'EG', 'ES', 'FI', 'FR', 'GB', 'GR', 'GT', 'HK', 'HN', 'HU', 'ID', 'IE', 'IL', 'IN', 'IS', 'IT', 'JO', 'KW', 'LB', 'LI', 'LT', 'LU', 'LV', 'MA', 'MC', 'MT', 'MX', 'MY', 'NI', 'NL', 'NO', 'NZ', 'OM', 'PA', 'PE', 'PH', 'PL', 'PS', 'PT', 'PY', 'QA', 'RO', 'SA', 'SE', 'SG', 'SK', 'SV', 'TH', 'TN', 'TR', 'TW', 'UY', 'VN', 'ZA'], 'disc_number': 1, 'duration_ms': 264748, 'explicit': False, 'external_ids': {'isrc': 'DEG441590752'}, 'external_urls': {'spotify': 'https://open.spotify.com/track/35DpmvUQxfyxaEJqyIqV1X'}, 'href': 'https://api.spotify.com/v1/tracks/35DpmvUQxfyxaEJqyIqV1X', 'id': '35DpmvUQxfyxaEJqyIqV1X', 'is_local': False, 'name': 'Killer Queen', 'popularity': 57, 'preview_url': 'https://p.scdn.co/mp3-preview/1e1da89faac7e80746ca028c814d94c72c69db98?cid=b7149648785b463a8209dcddaf33f6d9', 'track_number': 4, 'type': 'track', 'uri': 'spotify:track:35DpmvUQxfyxaEJqyIqV1X'}\n"
     ]
    }
   ],
   "source": [
    "import sys\n",
    "import spotipy\n",
    "import spotipy.util as util\n",
    "import json\n",
    "from json.decoder import JSONDecodeError\n",
    "import os\n",
    "\n",
    "with open('config.json') as config_file:\n",
    "    config = json.load(config_file)\n",
    "\n",
    "client_id = config['spotify_client_id']\n",
    "client_secret = config['spotify_client_secret']\n",
    "username = config['spotify_username']\n",
    "redirect_url = config['spotify_redirect_url']\n",
    "scope = 'user-read-playback-state'\n",
    "\n",
    "# try:\n",
    "#     token = util.prompt_for_user_token(username, scope, client_id, client_secret, redirect_url)\n",
    "# except (AttributeError, JSONDecodeError):\n",
    "#     print(\"Removing OS Cache first.\")\n",
    "#     os.remove(f\".cache-{username}\")\n",
    "#     token = util.prompt_for_user_token(username, scope, client_id, client_secret, redirect_url)\n",
    "\n",
    "if token:\n",
    "    spotifyObject = spotipy.Spotify(auth=token)\n",
    "\n",
    "    track = spotifyObject.current_user_playing_track()\n",
    "    if track is None:\n",
    "        exit(1)\n",
    "    print(track['item'])\n",
    "else:\n",
    "    print(\"Can't get token for\", username)"
   ]
  },
  {
   "cell_type": "code",
   "execution_count": 22,
   "outputs": [
    {
     "name": "stdout",
     "output_type": "stream",
     "text": [
      "https://i.scdn.co/image/ab67616d0000b273b3721adaad517d865c01edcb\n"
     ]
    },
    {
     "data": {
      "text/plain": "<Figure size 432x288 with 1 Axes>",
      "image/png": "[encoded data removed]"
     },
     "metadata": {
      "needs_background": "light"
     },
     "output_type": "display_data"
    }
   ],
   "source": [
    "cover_art_url = track['item']['album']['images'][0]['url']\n",
    "print(cover_art_url)\n",
    "\n",
    "import requests\n",
    "import io\n",
    "from PIL import Image\n",
    "import matplotlib.pyplot as plt\n",
    "\n",
    "i = requests.get(cover_art_url)\n",
    "img = Image.open(io.BytesIO(i.content))\n",
    "img = img.resize((12,12), Image.ANTIALIAS)\n",
    "plt.imshow(img)\n",
    "plt.show()"
   ],
   "metadata": {
    "collapsed": false,
    "pycharm": {
     "name": "#%%\n"
    }
   }
  },
  {
   "cell_type": "code",
   "execution_count": 23,
   "outputs": [],
   "source": [
    "import numpy as np\n",
    "np = np.array(img)"
   ],
   "metadata": {
    "collapsed": false,
    "pycharm": {
     "name": "#%%\n"
    }
   }
  }
 ],
 "metadata": {
  "kernelspec": {
   "name": "pycharm-3bc66b0e",
   "language": "python",
   "display_name": "PyCharm (table)"
  },
  "language_info": {
   "codemirror_mode": {
    "name": "ipython",
    "version": 2
   },
   "file_extension": ".py",
   "mimetype": "text/x-python",
   "name": "python",
   "nbconvert_exporter": "python",
   "pygments_lexer": "ipython2",
   "version": "2.7.6"
  }
 },
 "nbformat": 4,
 "nbformat_minor": 0
}